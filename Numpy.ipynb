{
 "cells": [
  {
   "cell_type": "markdown",
   "metadata": {},
   "source": [
    "[Twitter handle](https://twitter.com/PythonLover9)\n",
    "\n",
    "[Newsletter](https://www.getrevue.co/profile/pythonlover)"
   ]
  },
  {
   "cell_type": "markdown",
   "metadata": {},
   "source": [
    "# Numpy\n",
    "\n",
    "### • What is Numpy?\n",
    "\n",
    "NumPy is the fundamental package for data science and analysis in Python. It provides ability to create multidimentional python objects. Operations on these objects are pretty fast. It comes with plethora of useful methods( & functions ) related to linear algebra, statistical operations, mathematical formulas, shape manipulation, sorting, selecting and many more. It has following characterestic:\n",
    "\n",
    "*1. Fixed Size, If size gets modified then numpy make a new array and delete older*\n",
    "\n",
    "*2. Elements have same data type( but can have arrays of both types python or numpy arrays )*\n",
    "\n",
    "*3. Mathematical operators can be executed with less code and more efficiently*"
   ]
  },
  {
   "cell_type": "markdown",
   "metadata": {},
   "source": [
    "Default Mode of Numpy array is element by element operation. So, \"c = a*b\" if a and b are numpy array is same as writing:\n",
    "\n",
    ">```\n",
    ">for i in range(len(a)):\n",
    ">    c[i] = a[i]*b[i]\n",
    ">```\n",
    "\n",
    "*This is possible because of vectorization and it makes execution quite fast, although it lags behind C in performance because in C code is pre compiled but still good for most practical purposes.*"
   ]
  },
  {
   "cell_type": "markdown",
   "metadata": {},
   "source": [
    "### • Array Attributes"
   ]
  },
  {
   "cell_type": "markdown",
   "metadata": {},
   "source": [
    "Since numpy array can have multiple dimensions it can store a variety of data. The Dimensions are called **axes** in numpy. A 1-d Array has one dimension with 1 axes. Similarly a 2-d array or a matrix has 2 axes. Array **shape** gives information about size of each axes, i.e. number of rows in each axes. Total size of an array is basically total number of elements. One can find that out but multiplying size of each axes."
   ]
  },
  {
   "cell_type": "markdown",
   "metadata": {},
   "source": [
    "Fo more information about array attributes refer this: https://numpy.org/doc/stable/reference/arrays.ndarray.html#array-attributes"
   ]
  },
  {
   "cell_type": "code",
   "execution_count": 33,
   "metadata": {},
   "outputs": [
    {
     "name": "stdout",
     "output_type": "stream",
     "text": [
      "3D Array of 1x2x5 with numbers from 0 to 9\n",
      "------------\n",
      "[[[0 1 2 3 4]\n",
      "  [5 6 7 8 9]]]\n",
      "------------\n",
      "Array Type <class 'numpy.ndarray'>\n",
      "------------\n",
      "Array Shape (1, 2, 5)\n",
      "------------\n",
      "Array Dimension 3\n",
      "------------\n",
      "Array data type int32\n",
      "------------\n",
      "Each element size in bytes 4\n",
      "------------\n",
      "Total array size 10\n"
     ]
    }
   ],
   "source": [
    "import numpy as np\n",
    "\n",
    "a = np.arange(10).reshape(1,2,5)\n",
    "print( \"3D Array of 1x2x5 with numbers from 0 to 9\" )\n",
    "print(\"------------\")\n",
    "print(a)\n",
    "print(\"------------\")\n",
    "print(\"Array Type\", type(a))\n",
    "print(\"------------\")\n",
    "print(\"Array Shape\", a.shape)\n",
    "print(\"------------\")\n",
    "print(\"Array Dimension\", a.ndim)\n",
    "print(\"------------\")\n",
    "print(\"Array data type\", a.dtype.name)\n",
    "print(\"------------\")\n",
    "print(\"Each element size in bytes\", a.itemsize)                       # size in bytes of array element, int32 -> 32/8 = 4\n",
    "print(\"------------\")\n",
    "print(\"Total array size\", a.size)                           # 1*2*5"
   ]
  },
  {
   "cell_type": "markdown",
   "metadata": {},
   "source": [
    "### • Array Creation"
   ]
  },
  {
   "cell_type": "markdown",
   "metadata": {},
   "source": [
    "Creating array can be done using different functions that are available. Some of the most used functions are listed below."
   ]
  },
  {
   "cell_type": "markdown",
   "metadata": {},
   "source": [
    "For more information about array creation refer this: https://numpy.org/doc/stable/reference/routines.array-creation.html"
   ]
  },
  {
   "cell_type": "markdown",
   "metadata": {},
   "source": [
    "The simplest way to create numpy array is by using .array(). It accepts dtype parameter to change the data type of elements."
   ]
  },
  {
   "cell_type": "code",
   "execution_count": 37,
   "metadata": {
    "scrolled": true
   },
   "outputs": [
    {
     "name": "stdout",
     "output_type": "stream",
     "text": [
      "Simple 1-D array\n",
      "[6.  7.  8.2]\n",
      "------------\n",
      "Array of complex numbers\n",
      "[[1.+0.j 2.+0.j]\n",
      " [3.+0.j 4.+0.j]]\n",
      "------------\n",
      "Array of floats, all ints got converted to float data type\n",
      "[[1. 2.]\n",
      " [3. 4.]]\n",
      "------------\n",
      "Array of ints, all floats got converted to int data type\n",
      "[[1 2]\n",
      " [3 4]]\n"
     ]
    }
   ],
   "source": [
    "b = np.array([6, 7, 8.2])\n",
    "c = np.array( [ [1,2], [3,4] ], dtype=complex )\n",
    "d = np.array( [ [1,2], [3,4] ], dtype=float )\n",
    "e = np.array( [ [1.7,2.2], [3.5,4.5] ], dtype=int )\n",
    "print(\"Simple 1-D array\")\n",
    "print(b)\n",
    "print(\"------------\")\n",
    "print(\"Array of complex numbers\")\n",
    "print(c)\n",
    "print(\"------------\")\n",
    "print(\"Array of floats, all ints got converted to float data type\")\n",
    "print(d)\n",
    "print(\"------------\")\n",
    "print(\"Array of ints, all floats got converted to int data type\")\n",
    "print(e)"
   ]
  },
  {
   "cell_type": "markdown",
   "metadata": {},
   "source": [
    "To create array with all 0s use .zeros() and a tuple to specify the shape of array. It also accepts dtype parameter to specify data type similar to .array()"
   ]
  },
  {
   "cell_type": "code",
   "execution_count": 38,
   "metadata": {
    "scrolled": true
   },
   "outputs": [
    {
     "data": {
      "text/plain": [
       "array([[0, 0, 0, 0],\n",
       "       [0, 0, 0, 0],\n",
       "       [0, 0, 0, 0]])"
      ]
     },
     "execution_count": 38,
     "metadata": {},
     "output_type": "execute_result"
    }
   ],
   "source": [
    "np.zeros((3, 4), dtype=int)"
   ]
  },
  {
   "cell_type": "markdown",
   "metadata": {},
   "source": [
    "To create array with all 1s use .ones() and a tuple to specify the shape of array."
   ]
  },
  {
   "cell_type": "code",
   "execution_count": 4,
   "metadata": {},
   "outputs": [
    {
     "data": {
      "text/plain": [
       "array([[[1, 1, 1, 1],\n",
       "        [1, 1, 1, 1],\n",
       "        [1, 1, 1, 1]],\n",
       "\n",
       "       [[1, 1, 1, 1],\n",
       "        [1, 1, 1, 1],\n",
       "        [1, 1, 1, 1]]], dtype=int16)"
      ]
     },
     "execution_count": 4,
     "metadata": {},
     "output_type": "execute_result"
    }
   ],
   "source": [
    "np.ones( (2,3,4), dtype=np.int16 )    # dtype can also be specified"
   ]
  },
  {
   "cell_type": "markdown",
   "metadata": {},
   "source": [
    "Use .empty() to create array without initializing any value to the elements"
   ]
  },
  {
   "cell_type": "code",
   "execution_count": 5,
   "metadata": {
    "scrolled": true
   },
   "outputs": [
    {
     "data": {
      "text/plain": [
       "array([[0., 0., 0.],\n",
       "       [0., 0., 0.]])"
      ]
     },
     "execution_count": 5,
     "metadata": {},
     "output_type": "execute_result"
    }
   ],
   "source": [
    "np.empty( (2,3) )                      # Uninitialized elements"
   ]
  },
  {
   "cell_type": "markdown",
   "metadata": {},
   "source": [
    "The other most important function is to use **arange()** similar to range in python. One can use it in multiple ways. If we need array with whole numbers upto some range just use\n",
    "\n",
    "> np.arange(10) \n",
    "\n",
    "This will return array with numbers from 0 to 9.\n",
    "\n",
    "To get Array from different starting point use:\n",
    "\n",
    "> np.arange(5,15)\n",
    "\n",
    "This will return array with numbers from 5 to 15.\n",
    "\n",
    "In case we want to increment not 1 but something else use it like how we use it below."
   ]
  },
  {
   "cell_type": "code",
   "execution_count": 6,
   "metadata": {},
   "outputs": [
    {
     "data": {
      "text/plain": [
       "array([0. , 0.3, 0.6, 0.9, 1.2, 1.5, 1.8])"
      ]
     },
     "execution_count": 6,
     "metadata": {},
     "output_type": "execute_result"
    }
   ],
   "source": [
    "np.arange( 0, 2, 0.3 )                 # Range function of numpy"
   ]
  },
  {
   "cell_type": "markdown",
   "metadata": {},
   "source": [
    "**Beware:** When arange is used with floating point arguments, it is generally not possible to predict the number of elements obtained, due to the finite floating point precision. For this reason, it is usually better to use the function linspace that receives as an argument the number of elements that we want, instead of the step:"
   ]
  },
  {
   "cell_type": "code",
   "execution_count": 43,
   "metadata": {
    "scrolled": true
   },
   "outputs": [
    {
     "name": "stdout",
     "output_type": "stream",
     "text": [
      "[0.  0.5 1.  1.5 2. ]\n",
      "------------\n",
      "[0.         0.52359878 1.04719755 1.57079633 2.0943951  2.61799388\n",
      " 3.14159265]\n",
      "------------\n",
      "[0.00000000e+00 5.00000000e-01 8.66025404e-01 1.00000000e+00\n",
      " 8.66025404e-01 5.00000000e-01 1.22464680e-16]\n"
     ]
    }
   ],
   "source": [
    "from numpy import pi\n",
    "print(np.linspace(0,2,5))     # 5 numbers starting from 0 and ending at 2 and uniformly spaced\n",
    "x = np.linspace( 0, pi, 7 )   # 0, pi/6, pi/3, pi/2, 2*pi/3, 5*pi/6, pi\n",
    "print(\"------------\")\n",
    "print(x)\n",
    "print(\"------------\")\n",
    "f = np.sin(x)\n",
    "print(f)"
   ]
  },
  {
   "cell_type": "markdown",
   "metadata": {},
   "source": [
    "### • Array Operators"
   ]
  },
  {
   "cell_type": "markdown",
   "metadata": {},
   "source": [
    "Arithmetic operators on arrays apply elementwise. A new array is created and filled with the result."
   ]
  },
  {
   "cell_type": "code",
   "execution_count": 47,
   "metadata": {
    "scrolled": true
   },
   "outputs": [
    {
     "name": "stdout",
     "output_type": "stream",
     "text": [
      "[1 2 3 4]\n",
      "------------\n",
      "[0 1 2 3]\n",
      "------------\n",
      "Subtract\n",
      "[1 1 1 1]\n",
      "------------\n",
      "Square\n",
      "[0 1 4 9]\n",
      "------------\n",
      "Multiply by constant\n",
      "[2 4 6 8]\n",
      "------------\n",
      "Comparing each element\n",
      "[ True  True False False]\n"
     ]
    }
   ],
   "source": [
    "a=np.array([1,2,3,4])\n",
    "b=np.arange(4)\n",
    "print(a)\n",
    "print(\"------------\")\n",
    "print(b)\n",
    "print(\"------------\")\n",
    "print(\"Subtract\")\n",
    "print(a-b)                  # Subtracting elements of a and b\n",
    "print(\"------------\")\n",
    "print(\"Square\")\n",
    "print(b**2)                 # squaring each element\n",
    "print(\"------------\")\n",
    "print(\"Multiply by constant\")\n",
    "print(2*a)                  # multiply each element with 2\n",
    "print(\"------------\")\n",
    "print(\"Comparing each element\")\n",
    "print(a<3)                  # Comparing each element with 3"
   ]
  },
  {
   "cell_type": "markdown",
   "metadata": {},
   "source": [
    "The other useful tool is .reshape(). It can be used to change the shape of array. To multiply shape of matrices should be same otherwise it will through. Remember a*b is element wise multiplication. For dot product, use @ instead or .dot() method."
   ]
  },
  {
   "cell_type": "code",
   "execution_count": 58,
   "metadata": {
    "scrolled": true
   },
   "outputs": [
    {
     "name": "stdout",
     "output_type": "stream",
     "text": [
      "[[0 1 2 3]\n",
      " [4 5 6 7]]\n",
      "------------\n",
      "[[1 2]\n",
      " [3 4]\n",
      " [5 6]\n",
      " [7 8]]\n",
      "------------\n",
      "[[1 2 3 4]\n",
      " [5 6 7 8]]\n",
      "------------\n",
      "Element multiplication\n",
      "[[ 0  2  6 12]\n",
      " [20 30 42 56]]\n",
      "------------\n",
      "Dot Product\n",
      "[[ 34  40]\n",
      " [ 98 120]]\n",
      "[[ 34  40]\n",
      " [ 98 120]]\n"
     ]
    }
   ],
   "source": [
    "a=np.arange(8).reshape(2,4)     # Changing array of 8 whole numbers to 2x4 matrix.       \n",
    "b=np.arange(1,9).reshape(4,2)   \n",
    "print(a)\n",
    "print(\"------------\")\n",
    "print(b)\n",
    "print(\"------------\")\n",
    "c=np.arange(1,9).reshape(2,4)\n",
    "print(c)\n",
    "print(\"------------\")\n",
    "print(\"Element multiplication\")\n",
    "print(a*c)                        # Element wise multiplication, shape should be same\n",
    "print(\"------------\")\n",
    "print(\"Dot Product\")\n",
    "print(a@b)                        # Matrix product size should be m*n and n*r otherwise error\n",
    "print( a.dot(b) )                 # Other way\n"
   ]
  },
  {
   "cell_type": "markdown",
   "metadata": {},
   "source": [
    "The other way to operate on numpy arrays."
   ]
  },
  {
   "cell_type": "code",
   "execution_count": 51,
   "metadata": {},
   "outputs": [
    {
     "name": "stdout",
     "output_type": "stream",
     "text": [
      "[[ 0  3  6  9 12]\n",
      " [15 18 21 24 27]]\n",
      "------------\n",
      "[[ 1  5  9 13 17]\n",
      " [21 25 29 33 37]]\n"
     ]
    }
   ],
   "source": [
    "a=np.arange(10).reshape(2,5)\n",
    "c=np.arange(1,11).reshape(2,5)\n",
    "a *= 3\n",
    "print(a)\n",
    "\n",
    "print(\"------------\")\n",
    "\n",
    "c += a        # Array dtype and shape should be same\n",
    "print(c)"
   ]
  },
  {
   "cell_type": "markdown",
   "metadata": {},
   "source": [
    "Array of two different data types can be operated but with upcasting i.e. resulting array data type will be more precise and numpy will convert all the elements to that data type."
   ]
  },
  {
   "cell_type": "code",
   "execution_count": 52,
   "metadata": {},
   "outputs": [
    {
     "name": "stdout",
     "output_type": "stream",
     "text": [
      "[2.2 3.5 4.1]\n",
      "------------\n",
      "float64\n",
      "------------\n",
      "[ 1.79386683 +2.79378206j  6.58222958+10.25121519j\n",
      " 11.99360426+18.67893193j]\n",
      "------------\n",
      "complex128\n"
     ]
    }
   ],
   "source": [
    "a = np.ones(3, dtype=np.int32)\n",
    "b = np.array([1.2,2.5,3.1], dtype=np.float)\n",
    "c = a+b\n",
    "print(c)\n",
    "\n",
    "print(\"------------\")\n",
    "\n",
    "print(c.dtype.name)\n",
    "\n",
    "print(\"------------\")\n",
    "\n",
    "d=np.exp(b+a*1j)           # e^(x)\n",
    "print(d)\n",
    "\n",
    "print(\"------------\")\n",
    "\n",
    "print(d.dtype.name)"
   ]
  },
  {
   "cell_type": "markdown",
   "metadata": {},
   "source": [
    "### • Array Functions"
   ]
  },
  {
   "cell_type": "markdown",
   "metadata": {},
   "source": [
    "Numpy provides quite a few methods and functions. From simple functions like max min and sum to other useful funcs like log, exp, etc."
   ]
  },
  {
   "cell_type": "markdown",
   "metadata": {},
   "source": [
    "For more documentation, refer this: https://numpy.org/doc/stable/reference/routines.math.html"
   ]
  },
  {
   "cell_type": "markdown",
   "metadata": {},
   "source": [
    "I would like to compare speed of different in built functions. As the array size increase numpy functions will dominate as compare to native functions"
   ]
  },
  {
   "cell_type": "code",
   "execution_count": 54,
   "metadata": {},
   "outputs": [
    {
     "name": "stdout",
     "output_type": "stream",
     "text": [
      "0.040856361389160156\n",
      "------------\n",
      "0.002991914749145508\n"
     ]
    }
   ],
   "source": [
    "import time\n",
    "a = [1]*10000\n",
    "start = time.time()\n",
    "for i in range(100):\n",
    "    max(a)\n",
    "    min(a)\n",
    "    sum(a)\n",
    "end = time.time()\n",
    "print(end-start)\n",
    "\n",
    "print(\"------------\")\n",
    "\n",
    "a = np.ones(10000, dtype=np.int32)\n",
    "start = time.time()\n",
    "for i in range(100):\n",
    "    a.max()\n",
    "    a.min()\n",
    "    a.sum()\n",
    "end = time.time()\n",
    "print(end-start)"
   ]
  },
  {
   "cell_type": "code",
   "execution_count": 57,
   "metadata": {},
   "outputs": [
    {
     "name": "stdout",
     "output_type": "stream",
     "text": [
      "[[ 0  1  2  3]\n",
      " [ 4  5  6  7]\n",
      " [ 8  9 10 11]]\n",
      "------------\n",
      "Sum of all elements\n",
      "66\n",
      "------------\n",
      "Sum of all columns\n",
      "[12 15 18 21]\n",
      "------------\n",
      "Sum of all rows\n",
      "[ 6 22 38]\n",
      "------------\n",
      "Cumulative sum of elements, column wise and then row wise\n",
      "[ 0  1  3  6 10 15 21 28 36 45 55 66]\n",
      "------------\n",
      "[[ 0  1  2  3]\n",
      " [ 4  6  8 10]\n",
      " [12 15 18 21]]\n",
      "------------\n",
      "[[ 0  1  3  6]\n",
      " [ 4  9 15 22]\n",
      " [ 8 17 27 38]]\n"
     ]
    }
   ],
   "source": [
    "b = np.arange(12).reshape(3,4)\n",
    "print(b)\n",
    "\n",
    "print(\"------------\")\n",
    "\n",
    "print(\"Sum of all elements\")\n",
    "print(b.sum())                #By default it takes the sum by assuming the list of numbers\n",
    "\n",
    "print(\"------------\")\n",
    "\n",
    "print(\"Sum of all columns\")\n",
    "print(b.sum(axis=0))          #Column wise sum\n",
    "\n",
    "print(\"------------\")\n",
    "\n",
    "print(\"Sum of all rows\")\n",
    "print(b.sum(axis=1))          #Row wise sum\n",
    "\n",
    "print(\"------------\")\n",
    "\n",
    "print(\"Cumulative sum of elements, column wise and then row wise\")\n",
    "print(b.cumsum())             #Cumulative Sum along the list of numbers\n",
    "\n",
    "print(\"------------\")\n",
    "\n",
    "print(b.cumsum(axis=0))       #Cumulative Sum along column\n",
    "\n",
    "print(\"------------\")\n",
    "\n",
    "print(b.cumsum(axis=1))       #Cumulative Sum along row"
   ]
  },
  {
   "cell_type": "markdown",
   "metadata": {},
   "source": [
    "One can create arrays using different universal functions too. These functions produce new array as output and operate on each element of input."
   ]
  },
  {
   "cell_type": "markdown",
   "metadata": {},
   "source": [
    "For more information on this, refer this: https://numpy.org/doc/stable/reference/ufuncs.html"
   ]
  },
  {
   "cell_type": "code",
   "execution_count": 60,
   "metadata": {},
   "outputs": [
    {
     "name": "stdout",
     "output_type": "stream",
     "text": [
      "Sine Function\n",
      "[ 0.          0.84147098  0.90929743  0.14112001 -0.7568025  -0.95892427\n",
      " -0.2794155   0.6569866   0.98935825  0.41211849]\n",
      "------------\n",
      "Square root Function\n",
      "[0.         1.         1.41421356 1.73205081 2.         2.23606798\n",
      " 2.44948974 2.64575131 2.82842712 3.        ]\n",
      "------------\n",
      "Add two arrays\n",
      "[ 0.          2.          3.41421356  4.73205081  6.          7.23606798\n",
      "  8.44948974  9.64575131 10.82842712 12.        ]\n"
     ]
    }
   ],
   "source": [
    "a = np.arange(10)\n",
    "print(\"Sine Function\")\n",
    "print(np.sin(a))\n",
    "\n",
    "print(\"------------\")\n",
    "\n",
    "print(\"Square root Function\")\n",
    "print(np.sqrt(a))\n",
    "\n",
    "print(\"------------\")\n",
    "\n",
    "print(\"Adding two arrays\")\n",
    "print(np.add(a,np.sqrt(a)))"
   ]
  },
  {
   "cell_type": "markdown",
   "metadata": {},
   "source": [
    "### • Array Indexing and Slicing"
   ]
  },
  {
   "cell_type": "markdown",
   "metadata": {},
   "source": [
    "Numpy array indexing and slicing works quite similar to python array. It helps in retreiving the part of data easily."
   ]
  },
  {
   "cell_type": "code",
   "execution_count": 64,
   "metadata": {},
   "outputs": [
    {
     "name": "stdout",
     "output_type": "stream",
     "text": [
      "[  0   1   8  27  64 125 216 343 512 729]\n",
      "------------\n",
      "Indexing and slicing 1-D array\n",
      "8\n",
      "[ 1  8 27]\n",
      "[ 0  8 64]\n",
      "------------\n",
      "Changing a part of array\n",
      "[ 10   1  10  27  10 125 216 343 512 729]\n",
      "------------\n",
      "[729 512 343 216 125  10  27  10   1  10]\n"
     ]
    }
   ],
   "source": [
    "a = np.arange(10)\n",
    "a = np.arange(10)**3\n",
    "print(a)                      # Array of cubes\n",
    "\n",
    "print(\"------------\")\n",
    "\n",
    "print(\"Indexing and slicing 1-D array\")\n",
    "print(a[2])\n",
    "print(a[1:4])                 # Indices from 1 to 3 inclusive\n",
    "print(a[0:6:2])               # Indices 0 2 4\n",
    "\n",
    "print(\"------------\")\n",
    "\n",
    "print(\"Changing a part of array\")\n",
    "a[0:6:2] = 10                 # We can modify the indices as well\n",
    "print(a)\n",
    "\n",
    "print(\"------------\")\n",
    "\n",
    "print(a[::-1])                # Reversing the array"
   ]
  },
  {
   "cell_type": "code",
   "execution_count": 78,
   "metadata": {},
   "outputs": [
    {
     "name": "stdout",
     "output_type": "stream",
     "text": [
      "Indexing and slicing 2-D array\n",
      "6\n",
      "------------\n",
      "[[ 1  2]\n",
      " [ 5  6]\n",
      " [ 9 10]\n",
      " [13 14]]\n",
      "------------\n",
      "[[4 5 6 7]]\n",
      "------------\n",
      "[[4 5 6 7]]\n",
      "------------\n",
      "[[4 5 6 7]]\n"
     ]
    }
   ],
   "source": [
    "a = np.arange(16).reshape(4,4)\n",
    "print(\"Indexing and slicing 2-D array\")\n",
    "print(a[1,2])\n",
    "\n",
    "print(\"------------\")\n",
    "\n",
    "print(a[:,1:3])   #Selecting rows\n",
    "\n",
    "print(\"------------\")\n",
    "\n",
    "print(a[1:2,:])   #Selecting columns\n",
    "\n",
    "print(\"------------\")\n",
    "\n",
    "print(a[1:2])     #Equivalent\n",
    "\n",
    "print(\"------------\")\n",
    "\n",
    "print(a[1:2,...]) #Triple dots can fill the rest similarly a[...,1:3]"
   ]
  },
  {
   "cell_type": "markdown",
   "metadata": {},
   "source": [
    "### • Iteration"
   ]
  },
  {
   "cell_type": "markdown",
   "metadata": {},
   "source": [
    "Numpy array can be iterated by multiple ways. By default it will iterate over first dimension like below."
   ]
  },
  {
   "cell_type": "code",
   "execution_count": 72,
   "metadata": {},
   "outputs": [
    {
     "name": "stdout",
     "output_type": "stream",
     "text": [
      "[0 2 4 6]\n",
      "[1 3 5 7]\n",
      "[2 4 6 8]\n",
      "[3 5 7 9]\n"
     ]
    }
   ],
   "source": [
    "for i in a:  #Row iteration\n",
    "    print(i)"
   ]
  },
  {
   "cell_type": "markdown",
   "metadata": {},
   "source": [
    "To iterate over each element one can use .flat method to create an iter. or use ravel() method to convert array into a 1-D array."
   ]
  },
  {
   "cell_type": "code",
   "execution_count": 77,
   "metadata": {
    "scrolled": true
   },
   "outputs": [
    {
     "name": "stdout",
     "output_type": "stream",
     "text": [
      "0\n",
      "2\n",
      "4\n",
      "6\n",
      "1\n",
      "3\n",
      "5\n",
      "7\n",
      "2\n",
      "4\n",
      "6\n",
      "8\n",
      "3\n",
      "5\n",
      "7\n",
      "9\n",
      "------------\n",
      "<numpy.flatiter object at 0x00000243DCF4CDA0>\n",
      "------------\n",
      "[0 2 4 6 1 3 5 7 2 4 6 8 3 5 7 9]\n"
     ]
    }
   ],
   "source": [
    "for i in a.flat: # a.ravel() can do the same but will return the array\n",
    "    print(i)\n",
    "\n",
    "print(\"------------\")\n",
    "\n",
    "print(a.flat)      # Flat creates an iter object to iterate over\n",
    "\n",
    "print(\"------------\")\n",
    "\n",
    "print(a.ravel())   # Ravel returns a 1-D array instead"
   ]
  },
  {
   "cell_type": "markdown",
   "metadata": {},
   "source": [
    "### • Reshape, Resize & Transpose"
   ]
  },
  {
   "cell_type": "markdown",
   "metadata": {},
   "source": [
    "It is easy to reshape a numpy array as we already seen. Use resize if you don't want to create new array."
   ]
  },
  {
   "cell_type": "markdown",
   "metadata": {},
   "source": [
    "For more information on this, refer this: https://numpy.org/doc/stable/reference/routines.array-manipulation.html"
   ]
  },
  {
   "cell_type": "code",
   "execution_count": 80,
   "metadata": {
    "scrolled": false
   },
   "outputs": [
    {
     "name": "stdout",
     "output_type": "stream",
     "text": [
      "[[ 0  1  2  3  4  5  6  7]\n",
      " [ 8  9 10 11 12 13 14 15]]\n",
      "------------\n",
      "Transpose\n",
      "[[ 0  4  8 12]\n",
      " [ 1  5  9 13]\n",
      " [ 2  6 10 14]\n",
      " [ 3  7 11 15]]\n"
     ]
    }
   ],
   "source": [
    "a = np.arange(16).reshape(4,4)\n",
    "print(a.reshape(2,8))    #using Resize we can modify the array itself while reshape will return a new array\n",
    "\n",
    "print(\"------------\")\n",
    "\n",
    "print(\"Transpose\")\n",
    "print(a.T)"
   ]
  },
  {
   "cell_type": "markdown",
   "metadata": {},
   "source": [
    "Splitting arrays horizontally"
   ]
  },
  {
   "cell_type": "code",
   "execution_count": 83,
   "metadata": {
    "scrolled": true
   },
   "outputs": [
    {
     "name": "stdout",
     "output_type": "stream",
     "text": [
      "[[ 0  1  2  3  4  5]\n",
      " [ 6  7  8  9 10 11]]\n",
      "------------\n",
      "[array([[0, 1],\n",
      "       [6, 7]]), array([[2, 3],\n",
      "       [8, 9]]), array([[ 4,  5],\n",
      "       [10, 11]])]\n",
      "------------\n",
      "[array([[0, 1, 2],\n",
      "       [6, 7, 8]]), array([[3],\n",
      "       [9]]), array([[ 4,  5],\n",
      "       [10, 11]])]\n"
     ]
    }
   ],
   "source": [
    "a = np.arange(12).reshape(2,6)\n",
    "print(a)\n",
    "\n",
    "print(\"------------\")\n",
    "\n",
    "print(np.hsplit(a,3))\n",
    "\n",
    "print(\"------------\")\n",
    "\n",
    "print(np.hsplit(a,(3,4))) #Till 3rd column and then after 4th column"
   ]
  },
  {
   "cell_type": "markdown",
   "metadata": {},
   "source": [
    "Arrays can be stacked as well horizontally or vertically."
   ]
  },
  {
   "cell_type": "code",
   "execution_count": 81,
   "metadata": {},
   "outputs": [
    {
     "name": "stdout",
     "output_type": "stream",
     "text": [
      "------------\n",
      "Stacking matrix vertically and horizontally\n",
      "[[0 1 2 3 4]\n",
      " [5 6 7 8 9]\n",
      " [0 1 2 3 4]\n",
      " [5 6 7 8 9]]\n",
      "[[0 1 2 3 4 0 1 2 3 4]\n",
      " [5 6 7 8 9 5 6 7 8 9]]\n",
      "------------\n",
      "[ 1  2 10 20]\n",
      "[[1 2]\n",
      " [3 4]]\n"
     ]
    }
   ],
   "source": [
    "a = np.arange(10).reshape(2,5)\n",
    "b = np.arange(10).reshape(2,5)\n",
    "\n",
    "print(\"------------\")\n",
    "\n",
    "print(\"Stacking matrix vertically and horizontally\")\n",
    "\n",
    "print(np.vstack((a,b)))    # np.row_stack is same as vstack\n",
    "print(np.hstack((a,b)))    # np.column_stack is although slightly different from hstack for 1-D arrays especially\n",
    "\n",
    "print(\"------------\")\n",
    "\n",
    "print(np.r_[1:3,10,20])    # Concatenating along first axis\n",
    "print(np.c_[[1,3],[2,4]])  # Concatenating along second axis"
   ]
  },
  {
   "cell_type": "markdown",
   "metadata": {},
   "source": [
    "### • Copy, View & Deep Copy"
   ]
  },
  {
   "cell_type": "markdown",
   "metadata": {},
   "source": [
    "https://numpy.org/doc/stable/reference/routines.array-creation.html#from-existing-data"
   ]
  },
  {
   "cell_type": "code",
   "execution_count": 90,
   "metadata": {},
   "outputs": [
    {
     "name": "stdout",
     "output_type": "stream",
     "text": [
      "------------\n",
      "True\n",
      "2490531729120\n",
      "2490531729120\n",
      "------------\n",
      "False\n",
      "True\n",
      "False\n",
      "------------\n",
      "[[1 2 2 3]]\n",
      "[[1 2 2 5]]\n",
      "[[2 2 2 5]]\n",
      "------------\n",
      "[[2 2]\n",
      " [2 5]]\n",
      "False\n",
      "------------\n"
     ]
    }
   ],
   "source": [
    "a = np.array([[1,2],[2,3]])\n",
    "b = a                            # This will not create a new object. b will just point to a\n",
    "\n",
    "print(\"------------\")\n",
    "\n",
    "print(b is a)          \n",
    "\n",
    "def myprint(x):                  # Function does not create a new array\n",
    "    print(id(x))\n",
    "    \n",
    "print(id(a))\n",
    "\n",
    "myprint(a)\n",
    "\n",
    "print(\"------------\")\n",
    "\n",
    "c = a.view()                     # This is a view, slicing also creates a view. View uses the same data of original array\n",
    "\n",
    "print( c is a )\n",
    "\n",
    "print( c.base is a )\n",
    "\n",
    "print( c.flags.owndata )\n",
    "\n",
    "print(\"------------\")\n",
    "\n",
    "c = c.reshape((1,4))\n",
    "\n",
    "print(c)\n",
    "\n",
    "a[1,1] = 5\n",
    "\n",
    "print(c)\n",
    "\n",
    "c[0,0] = 2\n",
    "\n",
    "print(c)\n",
    "\n",
    "print(\"------------\")\n",
    "\n",
    "print(a)\n",
    "\n",
    "d = a.copy()                     # This is a deep copy\n",
    "print(d is a)\n",
    "\n",
    "print(\"------------\")\n",
    "\n",
    "#Remember\n",
    "\n",
    "a = np.arange(int(1e8))\n",
    "b = a[:100].copy()\n",
    "del a                            # The memory of \"a\" can be released.\n",
    "\n",
    "#But if you make a slice only, memory still remain even if you delete a\n",
    "\n",
    "a = np.arange(int(1e8))\n",
    "b = a[:100]\n",
    "del a"
   ]
  },
  {
   "cell_type": "markdown",
   "metadata": {},
   "source": [
    "### • Linear Algebra"
   ]
  },
  {
   "cell_type": "markdown",
   "metadata": {},
   "source": [
    "https://numpy.org/doc/stable/reference/routines.linalg.html"
   ]
  },
  {
   "cell_type": "code",
   "execution_count": 86,
   "metadata": {
    "scrolled": true
   },
   "outputs": [
    {
     "name": "stdout",
     "output_type": "stream",
     "text": [
      "[[1 2]\n",
      " [3 4]]\n",
      "------------\n",
      "[[1 3]\n",
      " [2 4]]\n",
      "------------\n",
      "[[-2.   1. ]\n",
      " [ 1.5 -0.5]]\n"
     ]
    }
   ],
   "source": [
    "print(j)\n",
    "\n",
    "print(\"------------\")\n",
    "\n",
    "print(j.transpose())                     # Transpose\n",
    "\n",
    "print(\"------------\")\n",
    "\n",
    "print(np.linalg.inv(j))                  # Inverse of a matrix "
   ]
  },
  {
   "cell_type": "code",
   "execution_count": 85,
   "metadata": {},
   "outputs": [
    {
     "name": "stdout",
     "output_type": "stream",
     "text": [
      "[[1. 0.]\n",
      " [0. 1.]]\n",
      "------------\n",
      "[[ 7 10]\n",
      " [15 22]]\n",
      "------------\n",
      "5\n",
      "------------\n",
      "[[0. ]\n",
      " [0.5]]\n",
      "------------\n",
      "(array([-0.37228132,  5.37228132]), array([[-0.82456484, -0.41597356],\n",
      "       [ 0.56576746, -0.90937671]]))\n"
     ]
    }
   ],
   "source": [
    "print(np.eye(2))                         # Eye is for identity matrix\n",
    "\n",
    "print(\"------------\")\n",
    "\n",
    "print(j@j)                               # Dot product\n",
    "\n",
    "print(\"------------\")\n",
    "\n",
    "print(np.trace(j))                       # Trace\n",
    "\n",
    "print(\"------------\")\n",
    "\n",
    "print(np.linalg.solve(j, [[1],[2]]))     # Solving equation\n",
    "\n",
    "print(\"------------\")\n",
    "\n",
    "print(np.linalg.eig(j))                  # Eigen Values and Eigen Vectors"
   ]
  },
  {
   "cell_type": "markdown",
   "metadata": {},
   "source": [
    "### • Histograms using Numpy"
   ]
  },
  {
   "cell_type": "markdown",
   "metadata": {},
   "source": [
    "https://numpy.org/doc/stable/reference/routines.statistics.html"
   ]
  },
  {
   "cell_type": "code",
   "execution_count": 26,
   "metadata": {},
   "outputs": [],
   "source": [
    "%matplotlib inline"
   ]
  },
  {
   "cell_type": "code",
   "execution_count": 27,
   "metadata": {},
   "outputs": [
    {
     "data": {
      "text/plain": [
       "[<matplotlib.lines.Line2D at 0x243f700c988>]"
      ]
     },
     "execution_count": 27,
     "metadata": {},
     "output_type": "execute_result"
    },
    {
     "data": {
      "image/png": "[encoded data removed]",
      "text/plain": [
       "<Figure size 432x288 with 1 Axes>"
      ]
     },
     "metadata": {
      "needs_background": "light"
     },
     "output_type": "display_data"
    }
   ],
   "source": [
    "import matplotlib.pyplot as plt\n",
    "# Build a vector of 10000 normal deviates with variance 0.5^2 and mean 2\n",
    "mu, sigma = 2, 0.5\n",
    "v = np.random.normal(mu,sigma,10000)\n",
    "# Plot a normalized histogram with 50 bins\n",
    "plt.hist(v, bins=100, density=1)       # matplotlib version (plot)\n",
    "# Compute the histogram with numpy and then plot it\n",
    "(n, bins) = np.histogram(v, bins=100, density=True)  # NumPy version (no plot)\n",
    "plt.plot(.5*(bins[1:]+bins[:-1]), n)"
   ]
  },
  {
   "cell_type": "markdown",
   "metadata": {},
   "source": [
    "*Other important concepts are sorting and searching which can be found below*"
   ]
  },
  {
   "cell_type": "markdown",
   "metadata": {},
   "source": [
    "https://numpy.org/doc/stable/reference/routines.sort.html"
   ]
  },
  {
   "cell_type": "markdown",
   "metadata": {},
   "source": [
    "### • Tips and Tricks"
   ]
  },
  {
   "cell_type": "markdown",
   "metadata": {},
   "source": [
    "**Reshape Array** "
   ]
  },
  {
   "cell_type": "code",
   "execution_count": 28,
   "metadata": {
    "scrolled": true
   },
   "outputs": [
    {
     "name": "stdout",
     "output_type": "stream",
     "text": [
      "[[[ 0  1  2  3  4]\n",
      "  [ 5  6  7  8  9]]\n",
      "\n",
      " [[10 11 12 13 14]\n",
      "  [15 16 17 18 19]]]\n"
     ]
    }
   ],
   "source": [
    "a = np.arange(20)                \n",
    "b = a.reshape(2,-1,5)      #-1 will take care of the right index\n",
    "print(b)"
   ]
  },
  {
   "cell_type": "markdown",
   "metadata": {},
   "source": [
    "**Create Array** one can create array using python function as well"
   ]
  },
  {
   "cell_type": "code",
   "execution_count": 70,
   "metadata": {
    "scrolled": true
   },
   "outputs": [
    {
     "name": "stdout",
     "output_type": "stream",
     "text": [
      "[[0 2 4 6]\n",
      " [1 3 5 7]\n",
      " [2 4 6 8]\n",
      " [3 5 7 9]]\n"
     ]
    }
   ],
   "source": [
    "def myfunc(x,y):\n",
    "    return x+2*y\n",
    "\n",
    "a = np.fromfunction(myfunc, (4,4), dtype=int)\n",
    "\n",
    "print(a)"
   ]
  },
  {
   "cell_type": "markdown",
   "metadata": {},
   "source": [
    "**Slicing Array** using other array"
   ]
  },
  {
   "cell_type": "code",
   "execution_count": 24,
   "metadata": {
    "scrolled": true
   },
   "outputs": [
    {
     "name": "stdout",
     "output_type": "stream",
     "text": [
      "[2 3 4]\n",
      "[[2 3]\n",
      " [4 6]]\n"
     ]
    }
   ],
   "source": [
    "a = np.array([1,2,3,4,6])\n",
    "print(a[[1,2,3]])\n",
    "j = np.array([[1,2],[3,4]])\n",
    "print(a[j])\n"
   ]
  },
  {
   "cell_type": "markdown",
   "metadata": {},
   "source": [
    "Please suggest other tips and tricks that you know."
   ]
  }
 ],
 "metadata": {
  "kernelspec": {
   "display_name": "Python 3",
   "language": "python",
   "name": "python3"
  },
  "language_info": {
   "codemirror_mode": {
    "name": "ipython",
    "version": 3
   },
   "file_extension": ".py",
   "mimetype": "text/x-python",
   "name": "python",
   "nbconvert_exporter": "python",
   "pygments_lexer": "ipython3",
   "version": "3.7.4"
  }
 },
 "nbformat": 4,
 "nbformat_minor": 2
}
